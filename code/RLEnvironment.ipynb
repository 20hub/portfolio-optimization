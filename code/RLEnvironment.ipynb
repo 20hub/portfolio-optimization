{
 "cells": [
  {
   "cell_type": "code",
   "execution_count": null,
   "metadata": {},
   "outputs": [],
   "source": [
    "# Import necessary packages\n",
    "import numpy as np\n",
    "import pandas as pd"
   ]
  },
  {
   "cell_type": "code",
   "execution_count": null,
   "metadata": {},
   "outputs": [],
   "source": [
    "class RLEnv():\n",
    "    def initialize(self, Path, PortfolioValue = 10000, TransCost = 0.0025, ReturnRate = 0.02/250, \n",
    "                   WindowSize = 50, TrainTestSplit = 0.7):\n",
    "        self.Dataset = np.load(Path)\n",
    "        self.NumStocks = self.Dataset.shape[1]\n",
    "        self.NumValues = self.Dataset.shape[0]\n",
    "        self.PortfolioValue = PortfolioValue\n",
    "        self.TransCost = TransCost\n",
    "        self.ReturnRate = ReturnRate\n",
    "        self.WindowSize = WindowSize\n",
    "        self.Done = False\n",
    "        self.state = None\n",
    "        self.TimeLength = None\n",
    "        self.Terminate = False\n",
    "        self.TerminateRows = int((self.Dataset.shape[2] - self.WindowSize) * TrainTestSplit)\n",
    "        \n",
    "    def UpdatedOpenValues(self, T):\n",
    "        return np.array([1+self.ReturnRate]+self.Dataset[-1,:,T].tolist())\n",
    "    \n",
    "    def InputTensor(self, Tensor, T):\n",
    "        return Tensor[: , : , T - self.WindowSize:T]\n",
    "    \n",
    "    def ResetEnvironment(self, InitWeight, InitPortfolio, T):\n",
    "        self.state= (self.InputTensor(self.Dataset, self.WindowSize) , InitWeight , InitPortfolio)\n",
    "        self.TimeLength = self.WindowSize + T\n",
    "        self.Done = False\n",
    "        \n",
    "        return self.state, self.Done\n",
    "    \n",
    "    def Step(self, Action):\n",
    "\n",
    "        Dataset = self.InputTensor(self.Dataset, self.index)\n",
    "        weight_vector_old = self.state[1]\n",
    "        portfolio_value_old = self.state[2]\n",
    "        NewOpenValues = self.UpdatedOpenValues(index)\n",
    "        WeightAllocation = Action\n",
    "        PortfolioAllocation = portfolio_value_old\n",
    "        TransactionCost = PortfolioAllocation * self.TransCost * np.linalg.norm((WeightAllocation-weight_vector_old),ord = 1)\n",
    "        ValueAfterTransaction = (PortfolioAllocation * WeightAllocation) - np.array([cost]+ [0]*self.nb_stocks)\n",
    "        NewValueofStocks = ValueAfterTransaction * NewOpenValues\n",
    "        NewPortfolioValue = np.sum(NewValueofStocks)\n",
    "        NewWeightVector = NewValueofStocks/NewPortfolioValue\n",
    "        RewardValue = (NewPortfolioValue - portfolio_value_old)/(portfolio_value_old)\n",
    "\n",
    "        self.index = self.index + 1\n",
    "        self.state = (self.InputTensor(self.Dataset, self.index), NewWeightVector, NewPortfolioValue)\n",
    "        if index >= self.TerminateRows:\n",
    "            self.Done = True\n",
    "        return self.state, self.RewardValue, self.Done  "
   ]
  }
 ],
 "metadata": {
  "kernelspec": {
   "display_name": "Python 3",
   "language": "python",
   "name": "python3"
  },
  "language_info": {
   "codemirror_mode": {
    "name": "ipython",
    "version": 3
   },
   "file_extension": ".py",
   "mimetype": "text/x-python",
   "name": "python",
   "nbconvert_exporter": "python",
   "pygments_lexer": "ipython3",
   "version": "3.7.4"
  }
 },
 "nbformat": 4,
 "nbformat_minor": 4
}
